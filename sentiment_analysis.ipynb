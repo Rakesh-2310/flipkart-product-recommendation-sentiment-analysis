{
 "cells": [
  {
   "cell_type": "code",
   "execution_count": 2,
   "id": "36350c87-f872-4158-932a-9d63b0a74e15",
   "metadata": {},
   "outputs": [],
   "source": [
    "import pandas as pd\n",
    "from textblob import TextBlob"
   ]
  },
  {
   "cell_type": "code",
   "execution_count": 2,
   "id": "f23ff144-3dc8-4e4f-85f0-59ec2edd3ad3",
   "metadata": {},
   "outputs": [],
   "source": [
    "df = pd.read_csv('Flipkart_webscraped_data.csv')"
   ]
  },
  {
   "cell_type": "code",
   "execution_count": 3,
   "id": "2b7aedfa-8da2-458d-b4b9-19ac0f4d4bb1",
   "metadata": {},
   "outputs": [
    {
     "data": {
      "text/html": [
       "<div>\n",
       "<style scoped>\n",
       "    .dataframe tbody tr th:only-of-type {\n",
       "        vertical-align: middle;\n",
       "    }\n",
       "\n",
       "    .dataframe tbody tr th {\n",
       "        vertical-align: top;\n",
       "    }\n",
       "\n",
       "    .dataframe thead th {\n",
       "        text-align: right;\n",
       "    }\n",
       "</style>\n",
       "<table border=\"1\" class=\"dataframe\">\n",
       "  <thead>\n",
       "    <tr style=\"text-align: right;\">\n",
       "      <th></th>\n",
       "      <th>rating</th>\n",
       "      <th>review_summary</th>\n",
       "      <th>review_description</th>\n",
       "      <th>product_id</th>\n",
       "      <th>Price</th>\n",
       "    </tr>\n",
       "  </thead>\n",
       "  <tbody>\n",
       "    <tr>\n",
       "      <th>0</th>\n",
       "      <td>5</td>\n",
       "      <td>Classy product</td>\n",
       "      <td>This is the value for money phone...For Flipka...</td>\n",
       "      <td>iPhone 12</td>\n",
       "      <td>30999</td>\n",
       "    </tr>\n",
       "  </tbody>\n",
       "</table>\n",
       "</div>"
      ],
      "text/plain": [
       "   rating  review_summary                                 review_description  \\\n",
       "0       5  Classy product  This is the value for money phone...For Flipka...   \n",
       "\n",
       "  product_id  Price  \n",
       "0  iPhone 12  30999  "
      ]
     },
     "execution_count": 3,
     "metadata": {},
     "output_type": "execute_result"
    }
   ],
   "source": [
    "df[:1]"
   ]
  },
  {
   "cell_type": "code",
   "execution_count": 4,
   "id": "36fdc473-9ef1-41ff-8fa1-ebbbc7ccc42a",
   "metadata": {},
   "outputs": [
    {
     "data": {
      "text/plain": [
       "20"
      ]
     },
     "execution_count": 4,
     "metadata": {},
     "output_type": "execute_result"
    }
   ],
   "source": [
    "df.duplicated().sum()"
   ]
  },
  {
   "cell_type": "code",
   "execution_count": 6,
   "id": "1d925c75-1dfe-4c4e-82a8-c4b1727dc9ae",
   "metadata": {
    "scrolled": true
   },
   "outputs": [],
   "source": [
    "df.drop_duplicates(inplace=True)"
   ]
  },
  {
   "cell_type": "code",
   "execution_count": 7,
   "id": "dfdd16a7-a014-4769-ba35-cae3ca178f68",
   "metadata": {},
   "outputs": [],
   "source": [
    "# Checking any blank cell is there using space \"  \"\n",
    "blank=[]\n",
    "for i,j,k,l,m,n in df.itertuples():\n",
    "  if type(j)==str:\n",
    "    if j.isspace():\n",
    "      blank.append(i)"
   ]
  },
  {
   "cell_type": "code",
   "execution_count": 8,
   "id": "a6781db8-6635-46be-9a18-01e7bac13369",
   "metadata": {},
   "outputs": [
    {
     "data": {
      "text/html": [
       "<div>\n",
       "<style scoped>\n",
       "    .dataframe tbody tr th:only-of-type {\n",
       "        vertical-align: middle;\n",
       "    }\n",
       "\n",
       "    .dataframe tbody tr th {\n",
       "        vertical-align: top;\n",
       "    }\n",
       "\n",
       "    .dataframe thead th {\n",
       "        text-align: right;\n",
       "    }\n",
       "</style>\n",
       "<table border=\"1\" class=\"dataframe\">\n",
       "  <thead>\n",
       "    <tr style=\"text-align: right;\">\n",
       "      <th></th>\n",
       "      <th>rating</th>\n",
       "      <th>review_summary</th>\n",
       "      <th>review_description</th>\n",
       "      <th>product_id</th>\n",
       "      <th>Price</th>\n",
       "    </tr>\n",
       "  </thead>\n",
       "  <tbody>\n",
       "  </tbody>\n",
       "</table>\n",
       "</div>"
      ],
      "text/plain": [
       "Empty DataFrame\n",
       "Columns: [rating, review_summary, review_description, product_id, Price]\n",
       "Index: []"
      ]
     },
     "execution_count": 8,
     "metadata": {},
     "output_type": "execute_result"
    }
   ],
   "source": [
    "df.loc[blank]"
   ]
  },
  {
   "cell_type": "code",
   "execution_count": 9,
   "id": "bd0aa1a2-d460-4ebc-a92f-1948e8599b17",
   "metadata": {},
   "outputs": [],
   "source": [
    "# finding str length below 10 count\n",
    "Word_Length=[]\n",
    "for i,j,k,l,m,n in df.itertuples():\n",
    "  if type(j)==str:\n",
    "    if len(j)<10:\n",
    "      Word_Length.append(i)"
   ]
  },
  {
   "cell_type": "code",
   "execution_count": 10,
   "id": "9669cc3f-aa09-4a30-9425-640b5a0b5a6c",
   "metadata": {},
   "outputs": [
    {
     "data": {
      "text/html": [
       "<div>\n",
       "<style scoped>\n",
       "    .dataframe tbody tr th:only-of-type {\n",
       "        vertical-align: middle;\n",
       "    }\n",
       "\n",
       "    .dataframe tbody tr th {\n",
       "        vertical-align: top;\n",
       "    }\n",
       "\n",
       "    .dataframe thead th {\n",
       "        text-align: right;\n",
       "    }\n",
       "</style>\n",
       "<table border=\"1\" class=\"dataframe\">\n",
       "  <thead>\n",
       "    <tr style=\"text-align: right;\">\n",
       "      <th></th>\n",
       "      <th>rating</th>\n",
       "      <th>review_summary</th>\n",
       "      <th>review_description</th>\n",
       "      <th>product_id</th>\n",
       "      <th>Price</th>\n",
       "    </tr>\n",
       "  </thead>\n",
       "  <tbody>\n",
       "  </tbody>\n",
       "</table>\n",
       "</div>"
      ],
      "text/plain": [
       "Empty DataFrame\n",
       "Columns: [rating, review_summary, review_description, product_id, Price]\n",
       "Index: []"
      ]
     },
     "execution_count": 10,
     "metadata": {},
     "output_type": "execute_result"
    }
   ],
   "source": [
    "df.loc[Word_Length]"
   ]
  },
  {
   "cell_type": "code",
   "execution_count": 11,
   "id": "457943ae-23d8-4cc6-9a04-aef40ffd59ea",
   "metadata": {},
   "outputs": [],
   "source": [
    "# I deleted duplicated 30 values so reset_index inclination.\n",
    "df.reset_index(drop=True, inplace=True)"
   ]
  },
  {
   "cell_type": "code",
   "execution_count": 12,
   "id": "2c2fd50e-9704-4850-9ac2-a359d7a5aaee",
   "metadata": {},
   "outputs": [],
   "source": [
    "from nltk.sentiment.vader import SentimentIntensityAnalyzer\n",
    "sia = SentimentIntensityAnalyzer()"
   ]
  },
  {
   "cell_type": "code",
   "execution_count": 13,
   "id": "033360c4-2941-4ef4-b961-9eb236d105bc",
   "metadata": {},
   "outputs": [],
   "source": [
    "# Add sentiment scores to the DataFrame\n",
    "df['Sentiment_Score'] = df['review_description'].apply(lambda x: sia.polarity_scores (str(x)))\n",
    "\n",
    "# Optional: You can classify the sentiments as Positive, Negative, or Neutral\n",
    "def compound(score):\n",
    "    if score >= 0.05:\n",
    "        return 'Positive'\n",
    "    elif score <= -0.05:\n",
    "        return 'Negative'\n",
    "    else:\n",
    "        return 'Neutral'\n",
    "\n",
    "# Apply the classification to the sentiment column\n",
    "df['compound'] = df['Sentiment_Score'].apply(lambda x:x[\"compound\"])\n",
    "df['vader_lexicon_Sentiment'] = df['compound'].apply(compound)  # Then categorize the sentiment"
   ]
  },
  {
   "cell_type": "code",
   "execution_count": 14,
   "id": "6e61ff8c-71d4-4ef7-be29-1d38093a91fd",
   "metadata": {
    "scrolled": true
   },
   "outputs": [
    {
     "data": {
      "text/html": [
       "<div>\n",
       "<style scoped>\n",
       "    .dataframe tbody tr th:only-of-type {\n",
       "        vertical-align: middle;\n",
       "    }\n",
       "\n",
       "    .dataframe tbody tr th {\n",
       "        vertical-align: top;\n",
       "    }\n",
       "\n",
       "    .dataframe thead th {\n",
       "        text-align: right;\n",
       "    }\n",
       "</style>\n",
       "<table border=\"1\" class=\"dataframe\">\n",
       "  <thead>\n",
       "    <tr style=\"text-align: right;\">\n",
       "      <th></th>\n",
       "      <th>rating</th>\n",
       "      <th>review_summary</th>\n",
       "      <th>review_description</th>\n",
       "      <th>product_id</th>\n",
       "      <th>Price</th>\n",
       "      <th>Sentiment_Score</th>\n",
       "      <th>compound</th>\n",
       "      <th>vader_lexicon_Sentiment</th>\n",
       "    </tr>\n",
       "  </thead>\n",
       "  <tbody>\n",
       "    <tr>\n",
       "      <th>0</th>\n",
       "      <td>5</td>\n",
       "      <td>Classy product</td>\n",
       "      <td>This is the value for money phone...For Flipka...</td>\n",
       "      <td>iPhone 12</td>\n",
       "      <td>30999</td>\n",
       "      <td>{'neg': 0.0, 'neu': 0.732, 'pos': 0.268, 'comp...</td>\n",
       "      <td>0.7650</td>\n",
       "      <td>Positive</td>\n",
       "    </tr>\n",
       "    <tr>\n",
       "      <th>1</th>\n",
       "      <td>5</td>\n",
       "      <td>Perfect product!</td>\n",
       "      <td>The brand is very trustworthy and i got genuin...</td>\n",
       "      <td>iPhone 12</td>\n",
       "      <td>30999</td>\n",
       "      <td>{'neg': 0.039, 'neu': 0.768, 'pos': 0.193, 'co...</td>\n",
       "      <td>0.7650</td>\n",
       "      <td>Positive</td>\n",
       "    </tr>\n",
       "    <tr>\n",
       "      <th>2</th>\n",
       "      <td>5</td>\n",
       "      <td>Terrific</td>\n",
       "      <td>Wow superb camera phone.Very smooth speed and ...</td>\n",
       "      <td>iPhone 12</td>\n",
       "      <td>30999</td>\n",
       "      <td>{'neg': 0.168, 'neu': 0.401, 'pos': 0.431, 'co...</td>\n",
       "      <td>0.8481</td>\n",
       "      <td>Positive</td>\n",
       "    </tr>\n",
       "    <tr>\n",
       "      <th>3</th>\n",
       "      <td>5</td>\n",
       "      <td>Terrific purchase</td>\n",
       "      <td>Awesome phone … value for money.. Happy with b...</td>\n",
       "      <td>iPhone 12</td>\n",
       "      <td>30999</td>\n",
       "      <td>{'neg': 0.049, 'neu': 0.694, 'pos': 0.257, 'co...</td>\n",
       "      <td>0.7906</td>\n",
       "      <td>Positive</td>\n",
       "    </tr>\n",
       "    <tr>\n",
       "      <th>4</th>\n",
       "      <td>5</td>\n",
       "      <td>Simply awesome</td>\n",
       "      <td>Amazing phone.In love with this phone</td>\n",
       "      <td>iPhone 12</td>\n",
       "      <td>30999</td>\n",
       "      <td>{'neg': 0.0, 'neu': 0.333, 'pos': 0.667, 'comp...</td>\n",
       "      <td>0.8402</td>\n",
       "      <td>Positive</td>\n",
       "    </tr>\n",
       "    <tr>\n",
       "      <th>...</th>\n",
       "      <td>...</td>\n",
       "      <td>...</td>\n",
       "      <td>...</td>\n",
       "      <td>...</td>\n",
       "      <td>...</td>\n",
       "      <td>...</td>\n",
       "      <td>...</td>\n",
       "      <td>...</td>\n",
       "    </tr>\n",
       "    <tr>\n",
       "      <th>502</th>\n",
       "      <td>5</td>\n",
       "      <td>Wonderful</td>\n",
       "      <td>Nice</td>\n",
       "      <td>SAMSUNG Galaxy S23 5G</td>\n",
       "      <td>39999</td>\n",
       "      <td>{'neg': 0.0, 'neu': 0.0, 'pos': 1.0, 'compound...</td>\n",
       "      <td>0.4215</td>\n",
       "      <td>Positive</td>\n",
       "    </tr>\n",
       "    <tr>\n",
       "      <th>503</th>\n",
       "      <td>5</td>\n",
       "      <td>Just wow!</td>\n",
       "      <td>Worth at 45k in this offer range including exc...</td>\n",
       "      <td>SAMSUNG Galaxy S23 5G</td>\n",
       "      <td>39999</td>\n",
       "      <td>{'neg': 0.053, 'neu': 0.901, 'pos': 0.046, 'co...</td>\n",
       "      <td>-0.1531</td>\n",
       "      <td>Negative</td>\n",
       "    </tr>\n",
       "    <tr>\n",
       "      <th>504</th>\n",
       "      <td>4</td>\n",
       "      <td>Good quality product</td>\n",
       "      <td>The camera quality of S20 is better than S23. ...</td>\n",
       "      <td>SAMSUNG Galaxy S23 5G</td>\n",
       "      <td>39999</td>\n",
       "      <td>{'neg': 0.0, 'neu': 0.647, 'pos': 0.353, 'comp...</td>\n",
       "      <td>0.7964</td>\n",
       "      <td>Positive</td>\n",
       "    </tr>\n",
       "    <tr>\n",
       "      <th>505</th>\n",
       "      <td>5</td>\n",
       "      <td>Wonderful</td>\n",
       "      <td>Awesome</td>\n",
       "      <td>SAMSUNG Galaxy S23 5G</td>\n",
       "      <td>39999</td>\n",
       "      <td>{'neg': 0.0, 'neu': 0.0, 'pos': 1.0, 'compound...</td>\n",
       "      <td>0.6249</td>\n",
       "      <td>Positive</td>\n",
       "    </tr>\n",
       "    <tr>\n",
       "      <th>506</th>\n",
       "      <td>1</td>\n",
       "      <td>Horrible</td>\n",
       "      <td>Never trust on Flipkart reviews.Worst mobile p...</td>\n",
       "      <td>SAMSUNG Galaxy S23 5G</td>\n",
       "      <td>39999</td>\n",
       "      <td>{'neg': 0.156, 'neu': 0.8, 'pos': 0.043, 'comp...</td>\n",
       "      <td>-0.5254</td>\n",
       "      <td>Negative</td>\n",
       "    </tr>\n",
       "  </tbody>\n",
       "</table>\n",
       "<p>507 rows × 8 columns</p>\n",
       "</div>"
      ],
      "text/plain": [
       "     rating        review_summary  \\\n",
       "0         5        Classy product   \n",
       "1         5      Perfect product!   \n",
       "2         5              Terrific   \n",
       "3         5     Terrific purchase   \n",
       "4         5        Simply awesome   \n",
       "..      ...                   ...   \n",
       "502       5             Wonderful   \n",
       "503       5             Just wow!   \n",
       "504       4  Good quality product   \n",
       "505       5             Wonderful   \n",
       "506       1              Horrible   \n",
       "\n",
       "                                    review_description             product_id  \\\n",
       "0    This is the value for money phone...For Flipka...              iPhone 12   \n",
       "1    The brand is very trustworthy and i got genuin...              iPhone 12   \n",
       "2    Wow superb camera phone.Very smooth speed and ...              iPhone 12   \n",
       "3    Awesome phone … value for money.. Happy with b...              iPhone 12   \n",
       "4                Amazing phone.In love with this phone              iPhone 12   \n",
       "..                                                 ...                    ...   \n",
       "502                                               Nice  SAMSUNG Galaxy S23 5G   \n",
       "503  Worth at 45k in this offer range including exc...  SAMSUNG Galaxy S23 5G   \n",
       "504  The camera quality of S20 is better than S23. ...  SAMSUNG Galaxy S23 5G   \n",
       "505                                            Awesome  SAMSUNG Galaxy S23 5G   \n",
       "506  Never trust on Flipkart reviews.Worst mobile p...  SAMSUNG Galaxy S23 5G   \n",
       "\n",
       "     Price                                    Sentiment_Score  compound  \\\n",
       "0    30999  {'neg': 0.0, 'neu': 0.732, 'pos': 0.268, 'comp...    0.7650   \n",
       "1    30999  {'neg': 0.039, 'neu': 0.768, 'pos': 0.193, 'co...    0.7650   \n",
       "2    30999  {'neg': 0.168, 'neu': 0.401, 'pos': 0.431, 'co...    0.8481   \n",
       "3    30999  {'neg': 0.049, 'neu': 0.694, 'pos': 0.257, 'co...    0.7906   \n",
       "4    30999  {'neg': 0.0, 'neu': 0.333, 'pos': 0.667, 'comp...    0.8402   \n",
       "..     ...                                                ...       ...   \n",
       "502  39999  {'neg': 0.0, 'neu': 0.0, 'pos': 1.0, 'compound...    0.4215   \n",
       "503  39999  {'neg': 0.053, 'neu': 0.901, 'pos': 0.046, 'co...   -0.1531   \n",
       "504  39999  {'neg': 0.0, 'neu': 0.647, 'pos': 0.353, 'comp...    0.7964   \n",
       "505  39999  {'neg': 0.0, 'neu': 0.0, 'pos': 1.0, 'compound...    0.6249   \n",
       "506  39999  {'neg': 0.156, 'neu': 0.8, 'pos': 0.043, 'comp...   -0.5254   \n",
       "\n",
       "    vader_lexicon_Sentiment  \n",
       "0                  Positive  \n",
       "1                  Positive  \n",
       "2                  Positive  \n",
       "3                  Positive  \n",
       "4                  Positive  \n",
       "..                      ...  \n",
       "502                Positive  \n",
       "503                Negative  \n",
       "504                Positive  \n",
       "505                Positive  \n",
       "506                Negative  \n",
       "\n",
       "[507 rows x 8 columns]"
      ]
     },
     "execution_count": 14,
     "metadata": {},
     "output_type": "execute_result"
    }
   ],
   "source": [
    "df"
   ]
  },
  {
   "cell_type": "code",
   "execution_count": 15,
   "id": "329b6f9a-347e-468f-82c5-45937a483a26",
   "metadata": {
    "scrolled": true
   },
   "outputs": [
    {
     "data": {
      "image/png": "[encoded data removed]",
      "text/plain": [
       "<Figure size 640x480 with 1 Axes>"
      ]
     },
     "metadata": {},
     "output_type": "display_data"
    }
   ],
   "source": [
    "import matplotlib.pyplot as plt\n",
    "\n",
    "# Visualize sentiment distribution\n",
    "df['vader_lexicon_Sentiment'].value_counts().plot(kind='bar')\n",
    "plt.title('Sentiment Distribution')\n",
    "plt.show()"
   ]
  },
  {
   "cell_type": "code",
   "execution_count": 16,
   "id": "97b2b51a-697d-45cf-9003-504d983b9f64",
   "metadata": {
    "scrolled": true
   },
   "outputs": [
    {
     "name": "stdout",
     "output_type": "stream",
     "text": [
      "                                    review_description  Polarity  \\\n",
      "0    This is the value for money phone...For Flipka...  0.500000   \n",
      "1    The brand is very trustworthy and i got genuin...  0.133333   \n",
      "2    Wow superb camera phone.Very smooth speed and ...  0.587500   \n",
      "3    Awesome phone … value for money.. Happy with b...  0.646667   \n",
      "4                Amazing phone.In love with this phone  0.550000   \n",
      "..                                                 ...       ...   \n",
      "502                                               Nice  0.600000   \n",
      "503  Worth at 45k in this offer range including exc...  0.206667   \n",
      "504  The camera quality of S20 is better than S23. ...  0.500000   \n",
      "505                                            Awesome  1.000000   \n",
      "506  Never trust on Flipkart reviews.Worst mobile p... -0.081944   \n",
      "\n",
      "                                       Sentiment_Score  \n",
      "0    {'neg': 0.0, 'neu': 0.732, 'pos': 0.268, 'comp...  \n",
      "1    {'neg': 0.039, 'neu': 0.768, 'pos': 0.193, 'co...  \n",
      "2    {'neg': 0.168, 'neu': 0.401, 'pos': 0.431, 'co...  \n",
      "3    {'neg': 0.049, 'neu': 0.694, 'pos': 0.257, 'co...  \n",
      "4    {'neg': 0.0, 'neu': 0.333, 'pos': 0.667, 'comp...  \n",
      "..                                                 ...  \n",
      "502  {'neg': 0.0, 'neu': 0.0, 'pos': 1.0, 'compound...  \n",
      "503  {'neg': 0.053, 'neu': 0.901, 'pos': 0.046, 'co...  \n",
      "504  {'neg': 0.0, 'neu': 0.647, 'pos': 0.353, 'comp...  \n",
      "505  {'neg': 0.0, 'neu': 0.0, 'pos': 1.0, 'compound...  \n",
      "506  {'neg': 0.156, 'neu': 0.8, 'pos': 0.043, 'comp...  \n",
      "\n",
      "[507 rows x 3 columns]\n"
     ]
    }
   ],
   "source": [
    "# Function to categorize the sentiment based on polarity\n",
    "def categorize_sentiment(polarity):\n",
    "    if polarity > 0:\n",
    "        return 'Positive'\n",
    "    elif polarity < 0:\n",
    "        return 'Negative'\n",
    "    else:\n",
    "        return 'Neutral'\n",
    "\n",
    "def get_polarity(text):\n",
    "    try:   # Create a TextBlob object\n",
    "        blob = TextBlob(str(text))  # Ensure text is treated as a string\n",
    "        return blob.sentiment.polarity  # Get the polarity score (-1 to 1)\n",
    "    except Exception as e:\n",
    "        return None  # Handle potential errors and return None\n",
    "\n",
    "# Assuming df is your DataFrame and 'Review' is the column with the text data\n",
    "df['Polarity'] = df['review_description'].apply(get_polarity)  # First calculate the polarity\n",
    "df['TextBlob_Sentiment'] = df['Polarity'].apply(categorize_sentiment)  # Then categorize the sentiment\n",
    "\n",
    "# Show the DataFrame with the polarity and sentiment columns\n",
    "print(df[['review_description', 'Polarity', 'Sentiment_Score']])\n",
    "\n",
    "# Save results Optionally, save the DataFrame to a CSV file.\n",
    "df.to_csv('sentiment_analysis_flipkart.csv', index=False)"
   ]
  },
  {
   "cell_type": "code",
   "execution_count": 2,
   "id": "a275cb0d-1159-4c40-be9d-395fd0bc4cf7",
   "metadata": {
    "scrolled": true
   },
   "outputs": [
    {
     "ename": "NameError",
     "evalue": "name 'df' is not defined",
     "output_type": "error",
     "traceback": [
      "\u001b[1;31m---------------------------------------------------------------------------\u001b[0m",
      "\u001b[1;31mNameError\u001b[0m                                 Traceback (most recent call last)",
      "Cell \u001b[1;32mIn[2], line 1\u001b[0m\n\u001b[1;32m----> 1\u001b[0m df\n",
      "\u001b[1;31mNameError\u001b[0m: name 'df' is not defined"
     ]
    }
   ],
   "source": [
    "df"
   ]
  },
  {
   "cell_type": "code",
   "execution_count": 17,
   "id": "b653c2bf-5962-48e3-ad20-38d7868a2df4",
   "metadata": {},
   "outputs": [
    {
     "data": {
      "text/plain": [
       "0.9072978303747534"
      ]
     },
     "execution_count": 17,
     "metadata": {},
     "output_type": "execute_result"
    }
   ],
   "source": [
    "from sklearn.metrics import accuracy_score\n",
    "accuracy_score(df[\"vader_lexicon_Sentiment\"], df[\"TextBlob_Sentiment\"])"
   ]
  },
  {
   "cell_type": "code",
   "execution_count": 32,
   "id": "c6ad7402-f7a4-4f7d-90c4-0a2eed75a85d",
   "metadata": {
    "scrolled": true
   },
   "outputs": [],
   "source": [
    "from transformers import pipeline"
   ]
  },
  {
   "cell_type": "code",
   "execution_count": 44,
   "id": "279e26a2-51ed-4559-aa71-4042167cbdff",
   "metadata": {},
   "outputs": [],
   "source": [
    "from langchain import PromptTemplate\n",
    "from langchain.llms import HuggingFacePipeline\n",
    "from transformers import pipeline\n",
    "\n",
    "# Set your Hugging Face API key\n",
    "HUGGING_FACE_API_KEY = \"********************\"  "
   ]
  },
  {
   "cell_type": "code",
   "execution_count": 45,
   "id": "089fbc75-a887-495a-b83d-e463f5f0e879",
   "metadata": {},
   "outputs": [],
   "source": [
    "# Load your dataset\n",
    "df1 = pd.read_csv(\"sentiment_analysis_flipkart.csv\")"
   ]
  },
  {
   "cell_type": "code",
   "execution_count": 49,
   "id": "94bc1f99-dd24-4eb4-a681-100a3409e659",
   "metadata": {
    "scrolled": true
   },
   "outputs": [],
   "source": [
    "# Initialize the Hugging Face pipeline for sentiment analysis\n",
    "sentiment_pipeline = pipeline(\n",
    "    \"sentiment-analysis\",\n",
    "    model=\"distilbert-base-uncased-finetuned-sst-2-english\",\n",
    "    tokenizer=\"distilbert-base-uncased-finetuned-sst-2-english\",\n",
    "    device=-1 ) # Use -1 for CPU\n",
    "\n",
    "\n",
    "\n",
    "# Define a function to analyze sentiment\n",
    "def analyze_sentiment(row):\n",
    "    text = row['review_description']\n",
    "    \n",
    "    # Tokenize and split long text into chunks of 512 tokens\n",
    "    inputs = sentiment_pipeline.tokenizer(text, return_tensors=\"pt\", truncation=True, max_length=512)\n",
    "    \n",
    "    # Perform sentiment analysis on each chunk\n",
    "    result = sentiment_pipeline(text, truncation=True, max_length=512)\n",
    "    \n",
    "    # Get the sentiment label and score\n",
    "    sentiment = result[0]['label']\n",
    "    score = result[0]['score']\n",
    "    \n",
    "    return pd.Series([sentiment, score])\n",
    "\n",
    "\n",
    "\n",
    "# Apply the sentiment analysis function to the DataFrame\n",
    "df1[['predicted_sentiment', 'compound']] = df1.apply(analyze_sentiment, axis=1)\n",
    "\n",
    "# Define a function to generate product recommendations\n",
    "def generate_recommendation(row):\n",
    "    if row['compound'] >= 0.7:\n",
    "        return f\"Highly recommend {row['product_id']}! Users love it for its {row['review_description'][:50]}...\"\n",
    "    elif row['compound'] >= 0.4:\n",
    "        return f\"Consider {row['product_id']} if you're looking for a solid option. Users say: {row['review_description'][:50]}...\"\n",
    "    else:\n",
    "        return f\"You might want to research more before choosing {row['product_id']}. Some users mentioned: {row['review_description'][:50]}...\"\n",
    "\n",
    "# Apply the recommendation function to the DataFrame\n",
    "df1['recommendation'] = df1.apply(generate_recommendation, axis=1)"
   ]
  },
  {
   "cell_type": "code",
   "execution_count": 50,
   "id": "390ec301-90e7-4a31-a636-62f415288d2a",
   "metadata": {},
   "outputs": [
    {
     "name": "stdout",
     "output_type": "stream",
     "text": [
      "                                    review_description        review_summary  \\\n",
      "0    This is the value for money phone...For Flipka...        Classy product   \n",
      "1    The brand is very trustworthy and i got genuin...      Perfect product!   \n",
      "2    Wow superb camera phone.Very smooth speed and ...              Terrific   \n",
      "3    Awesome phone … value for money.. Happy with b...     Terrific purchase   \n",
      "4                Amazing phone.In love with this phone        Simply awesome   \n",
      "..                                                 ...                   ...   \n",
      "502                                               Nice             Wonderful   \n",
      "503  Worth at 45k in this offer range including exc...             Just wow!   \n",
      "504  The camera quality of S20 is better than S23. ...  Good quality product   \n",
      "505                                            Awesome             Wonderful   \n",
      "506  Never trust on Flipkart reviews.Worst mobile p...              Horrible   \n",
      "\n",
      "     compound predicted_sentiment  \\\n",
      "0    0.998158            POSITIVE   \n",
      "1    0.999364            POSITIVE   \n",
      "2    0.999832            POSITIVE   \n",
      "3    0.998124            POSITIVE   \n",
      "4    0.999798            POSITIVE   \n",
      "..        ...                 ...   \n",
      "502  0.999855            POSITIVE   \n",
      "503  0.930949            NEGATIVE   \n",
      "504  0.999785            POSITIVE   \n",
      "505  0.999868            POSITIVE   \n",
      "506  0.999671            NEGATIVE   \n",
      "\n",
      "                                        recommendation  \n",
      "0    Highly recommend iPhone 12! Users love it for ...  \n",
      "1    Highly recommend iPhone 12! Users love it for ...  \n",
      "2    Highly recommend iPhone 12! Users love it for ...  \n",
      "3    Highly recommend iPhone 12! Users love it for ...  \n",
      "4    Highly recommend iPhone 12! Users love it for ...  \n",
      "..                                                 ...  \n",
      "502  Highly recommend SAMSUNG Galaxy S23 5G! Users ...  \n",
      "503  Highly recommend SAMSUNG Galaxy S23 5G! Users ...  \n",
      "504  Highly recommend SAMSUNG Galaxy S23 5G! Users ...  \n",
      "505  Highly recommend SAMSUNG Galaxy S23 5G! Users ...  \n",
      "506  Highly recommend SAMSUNG Galaxy S23 5G! Users ...  \n",
      "\n",
      "[507 rows x 5 columns]\n"
     ]
    }
   ],
   "source": [
    "# Display the results\n",
    "print(df1[['review_description', 'review_summary', 'compound', 'predicted_sentiment', 'recommendation']])"
   ]
  },
  {
   "cell_type": "code",
   "execution_count": 51,
   "id": "fa0290f9-483e-469e-9996-f8a6e8445b19",
   "metadata": {},
   "outputs": [
    {
     "name": "stdout",
     "output_type": "stream",
     "text": [
      "<class 'pandas.core.frame.DataFrame'>\n",
      "RangeIndex: 507 entries, 0 to 506\n",
      "Data columns (total 12 columns):\n",
      " #   Column                   Non-Null Count  Dtype  \n",
      "---  ------                   --------------  -----  \n",
      " 0   rating                   507 non-null    int64  \n",
      " 1   review_summary           507 non-null    object \n",
      " 2   review_description       507 non-null    object \n",
      " 3   product_id               507 non-null    object \n",
      " 4   Price                    507 non-null    int64  \n",
      " 5   Sentiment_Score          507 non-null    object \n",
      " 6   compound                 507 non-null    float64\n",
      " 7   vader_lexicon_Sentiment  507 non-null    object \n",
      " 8   Polarity                 507 non-null    float64\n",
      " 9   TextBlob_Sentiment       507 non-null    object \n",
      " 10  predicted_sentiment      507 non-null    object \n",
      " 11  recommendation           507 non-null    object \n",
      "dtypes: float64(2), int64(2), object(8)\n",
      "memory usage: 47.7+ KB\n"
     ]
    }
   ],
   "source": [
    "df1.info()"
   ]
  },
  {
   "cell_type": "code",
   "execution_count": 52,
   "id": "19bf49bf-731a-4649-93ea-22f078a4852d",
   "metadata": {},
   "outputs": [
    {
     "name": "stdout",
     "output_type": "stream",
     "text": [
      "\n",
      "Based on sentiment analysis, we recommend the following mobile phone:\n",
      "\n",
      "**Model**: iPhone 12\n",
      "- Average Sentiment Score: 0.99\n",
      "- Positive Sentiment Count: 143\n",
      "\n",
      "This mobile is highly recommended by users for its excellent features and performance!\n",
      "\n"
     ]
    }
   ],
   "source": [
    "from langchain import PromptTemplate\n",
    "\n",
    "# Aggregate data by Product Name, calculating the average compound score and sentiment count\n",
    "most_recommended_mobile_phone = df1.groupby('product_id').agg(\n",
    "    average_compound_score=('compound', 'mean'),\n",
    "    average_compound_sentiment=('TextBlob_Sentiment', 'count')  # Adjusting sentiment count for simplicity\n",
    ").reset_index()\n",
    "\n",
    "# Sort by average compound score in descending order and select the top phone\n",
    "most_recommended_mobile_phone = most_recommended_mobile_phone.sort_values(\n",
    "    by=['average_compound_score'],  # Sorting by average sentiment score\n",
    "    ascending=False\n",
    ").head(1)  # Get the top 1 mobile phone\n",
    "\n",
    "# Define the LangChain template for recommendation\n",
    "template = \"\"\"\n",
    "Based on sentiment analysis, we recommend the following mobile phone:\n",
    "\n",
    "**Model**: {mobile}\n",
    "- Average Sentiment Score: {average_compound_score:.2f}\n",
    "- Positive Sentiment Count: {average_compound_sentiment}\n",
    "\n",
    "This mobile is highly recommended by users for its excellent features and performance!\n",
    "\"\"\"\n",
    "\n",
    "# Create a PromptTemplate in LangChain\n",
    "recommendation_template = PromptTemplate.from_template(template)\n",
    "\n",
    "# Generate recommendations for the top phone\n",
    "for _, row in most_recommended_mobile_phone.iterrows():\n",
    "    prompt = recommendation_template.format(\n",
    "        mobile=row['product_id'],  # Changed to 'Product Name' from the dataframe\n",
    "        average_compound_score=row['average_compound_score'],\n",
    "        average_compound_sentiment=row['average_compound_sentiment']\n",
    "    )\n",
    "    print(prompt)"
   ]
  },
  {
   "cell_type": "code",
   "execution_count": 53,
   "id": "260efd4f-0c84-4e9c-b221-8d0e71a1e8f6",
   "metadata": {},
   "outputs": [],
   "source": [
    "most_recommended_mobile_phone.to_pickle('recommended_phones.pkl')"
   ]
  },
  {
   "cell_type": "code",
   "execution_count": 3,
   "id": "260a70ea-4c50-4c26-8ef4-1c74bb6c2dea",
   "metadata": {},
   "outputs": [
    {
     "data": {
      "text/html": [
       "<div>\n",
       "<style scoped>\n",
       "    .dataframe tbody tr th:only-of-type {\n",
       "        vertical-align: middle;\n",
       "    }\n",
       "\n",
       "    .dataframe tbody tr th {\n",
       "        vertical-align: top;\n",
       "    }\n",
       "\n",
       "    .dataframe thead th {\n",
       "        text-align: right;\n",
       "    }\n",
       "</style>\n",
       "<table border=\"1\" class=\"dataframe\">\n",
       "  <thead>\n",
       "    <tr style=\"text-align: right;\">\n",
       "      <th></th>\n",
       "      <th>product_id</th>\n",
       "      <th>average_compound_score</th>\n",
       "      <th>average_compound_sentiment</th>\n",
       "    </tr>\n",
       "  </thead>\n",
       "  <tbody>\n",
       "    <tr>\n",
       "      <th>3</th>\n",
       "      <td>iPhone 12</td>\n",
       "      <td>0.986556</td>\n",
       "      <td>143</td>\n",
       "    </tr>\n",
       "  </tbody>\n",
       "</table>\n",
       "</div>"
      ],
      "text/plain": [
       "  product_id  average_compound_score  average_compound_sentiment\n",
       "3  iPhone 12                0.986556                         143"
      ]
     },
     "execution_count": 3,
     "metadata": {},
     "output_type": "execute_result"
    }
   ],
   "source": [
    "r_plk = pd.read_pickle('recommended_phones.pkl')\n",
    "r_plk"
   ]
  },
  {
   "cell_type": "code",
   "execution_count": null,
   "id": "375e9f7f-4e2d-47e3-a68b-3f956d6357e5",
   "metadata": {},
   "outputs": [],
   "source": []
  }
 ],
 "metadata": {
  "kernelspec": {
   "display_name": "Python 3 (ipykernel)",
   "language": "python",
   "name": "python3"
  },
  "language_info": {
   "codemirror_mode": {
    "name": "ipython",
    "version": 3
   },
   "file_extension": ".py",
   "mimetype": "text/x-python",
   "name": "python",
   "nbconvert_exporter": "python",
   "pygments_lexer": "ipython3",
   "version": "3.11.7"
  }
 },
 "nbformat": 4,
 "nbformat_minor": 5
}
